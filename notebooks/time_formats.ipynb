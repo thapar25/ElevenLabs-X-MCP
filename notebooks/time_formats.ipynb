{
 "cells": [
  {
   "cell_type": "markdown",
   "id": "c3b4f936",
   "metadata": {},
   "source": [
    "- Google API's take in RFC 3339 -> Returns time in  ISO 8601"
   ]
  },
  {
   "cell_type": "code",
   "execution_count": 1,
   "id": "8a98d715",
   "metadata": {},
   "outputs": [
    {
     "name": "stdout",
     "output_type": "stream",
     "text": [
      "2025-07-24T18:41:19.806147+00:00\n"
     ]
    }
   ],
   "source": [
    "import datetime\n",
    "import pytz\n",
    "\n",
    "print(datetime.datetime.now(tz=datetime.timezone.utc).isoformat())"
   ]
  },
  {
   "cell_type": "code",
   "execution_count": 2,
   "id": "27ad1c93",
   "metadata": {},
   "outputs": [
    {
     "name": "stdout",
     "output_type": "stream",
     "text": [
      "2025-07-25T00:11:26.024826+05:30\n"
     ]
    }
   ],
   "source": [
    "IST = pytz.timezone(\"Asia/Kolkata\")\n",
    "print(datetime.datetime.now(IST).isoformat())"
   ]
  },
  {
   "cell_type": "code",
   "execution_count": 3,
   "id": "4372395e",
   "metadata": {},
   "outputs": [
    {
     "name": "stdout",
     "output_type": "stream",
     "text": [
      "2025-05-25 19:30:00 IST\n"
     ]
    }
   ],
   "source": [
    "parsed_time = datetime.datetime.fromisoformat(\"2025-05-25T14:00:00Z\")\n",
    "print(datetime.datetime.strftime(parsed_time.astimezone(IST), \"%Y-%m-%d %H:%M:%S %Z\"))"
   ]
  },
  {
   "cell_type": "markdown",
   "id": "fcc35fe2",
   "metadata": {},
   "source": [
    "ISO Format 8601 (YYYY-MM-DD HH:MM) > Human Readable"
   ]
  },
  {
   "cell_type": "code",
   "execution_count": 13,
   "id": "ed34e54a",
   "metadata": {},
   "outputs": [
    {
     "data": {
      "text/plain": [
       "datetime.datetime(2025, 7, 22, 3, 21)"
      ]
     },
     "execution_count": 13,
     "metadata": {},
     "output_type": "execute_result"
    }
   ],
   "source": [
    "iso_start = \"2025-07-22 03:21\"\n",
    "datetime.datetime.fromisoformat(iso_start)"
   ]
  },
  {
   "cell_type": "code",
   "execution_count": 4,
   "id": "bbfb2069",
   "metadata": {},
   "outputs": [],
   "source": [
    "start = \"00:00 28/07/2025\"\n",
    "end = \"23:59 03/08/2025\""
   ]
  },
  {
   "cell_type": "code",
   "execution_count": 10,
   "id": "274a8538",
   "metadata": {},
   "outputs": [
    {
     "data": {
      "text/plain": [
       "'23:59 03-Aug-2025'"
      ]
     },
     "execution_count": 10,
     "metadata": {},
     "output_type": "execute_result"
    }
   ],
   "source": [
    "t = datetime.datetime.strptime(end, \"%H:%M %d/%m/%Y\")\n",
    "t.strftime(\"%H:%M %d-%b-%Y\")"
   ]
  }
 ],
 "metadata": {
  "kernelspec": {
   "display_name": "elevenlabs-x-mcp",
   "language": "python",
   "name": "python3"
  },
  "language_info": {
   "codemirror_mode": {
    "name": "ipython",
    "version": 3
   },
   "file_extension": ".py",
   "mimetype": "text/x-python",
   "name": "python",
   "nbconvert_exporter": "python",
   "pygments_lexer": "ipython3",
   "version": "3.13.0"
  }
 },
 "nbformat": 4,
 "nbformat_minor": 5
}
