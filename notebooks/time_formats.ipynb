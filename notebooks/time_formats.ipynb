{
 "cells": [
  {
   "cell_type": "markdown",
   "id": "c3b4f936",
   "metadata": {},
   "source": [
    "- Google API's take in RFC 3339 -> Returns time in  ISO 8601"
   ]
  },
  {
   "cell_type": "code",
   "execution_count": null,
   "id": "8a98d715",
   "metadata": {},
   "outputs": [
    {
     "name": "stdout",
     "output_type": "stream",
     "text": [
      "2025-07-22T19:26:26.145035+00:00\n"
     ]
    }
   ],
   "source": [
    "import datetime\n",
    "import pytz\n",
    "\n",
    "print(datetime.datetime.now(tz=datetime.timezone.utc).isoformat())"
   ]
  },
  {
   "cell_type": "code",
   "execution_count": 15,
   "id": "27ad1c93",
   "metadata": {},
   "outputs": [
    {
     "name": "stdout",
     "output_type": "stream",
     "text": [
      "2025-07-23T00:56:32.272762+05:30\n"
     ]
    }
   ],
   "source": [
    "IST = pytz.timezone(\"Asia/Kolkata\")\n",
    "print(datetime.datetime.now(IST).isoformat())"
   ]
  },
  {
   "cell_type": "code",
   "execution_count": 19,
   "id": "4372395e",
   "metadata": {},
   "outputs": [
    {
     "name": "stdout",
     "output_type": "stream",
     "text": [
      "2025-05-25 19:30:00 IST\n"
     ]
    }
   ],
   "source": [
    "parsed_time = datetime.datetime.fromisoformat(\"2025-05-25T14:00:00Z\")\n",
    "print(datetime.datetime.strftime(parsed_time.astimezone(IST), \"%Y-%m-%d %H:%M:%S %Z\"))"
   ]
  }
 ],
 "metadata": {
  "kernelspec": {
   "display_name": "elevenlabs-x-mcp",
   "language": "python",
   "name": "python3"
  },
  "language_info": {
   "codemirror_mode": {
    "name": "ipython",
    "version": 3
   },
   "file_extension": ".py",
   "mimetype": "text/x-python",
   "name": "python",
   "nbconvert_exporter": "python",
   "pygments_lexer": "ipython3",
   "version": "3.13.0"
  }
 },
 "nbformat": 4,
 "nbformat_minor": 5
}
