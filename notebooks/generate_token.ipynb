{
 "cells": [
  {
   "cell_type": "markdown",
   "id": "5ce3bf3b",
   "metadata": {},
   "source": [
    "## Get token"
   ]
  },
  {
   "cell_type": "code",
   "execution_count": null,
   "id": "11f75def",
   "metadata": {},
   "outputs": [
    {
     "name": "stdout",
     "output_type": "stream",
     "text": [
      "Please visit this URL to authorize this application: https://accounts.google.com/o/oauth2/auth?response_type=code&client_id=247891621806-uhvoiovg6rnmno6ol7pmeflnq7a3m3j5.apps.googleusercontent.com&redirect_uri=http%3A%2F%2Flocalhost%3A52607%2F&scope=https%3A%2F%2Fwww.googleapis.com%2Fauth%2Fcalendar&state=o4NhxlpzSRmJvQGTVkET8TGphpvGlU&access_type=offline\n"
     ]
    }
   ],
   "source": [
    "from google_auth_oauthlib.flow import InstalledAppFlow\n",
    "\n",
    "SCOPES = [\"https://www.googleapis.com/auth/calendar\"]\n",
    "\n",
    "credentials_path = \"../credentials.json\"\n",
    "\n",
    "flow = InstalledAppFlow.from_client_secrets_file(credentials_path, SCOPES)\n",
    "creds = flow.run_local_server(port=0)\n",
    "\n",
    "# Save the access + refresh token\n",
    "with open(\"token.json\", \"w\") as token:\n",
    "    token.write(creds.to_json())"
   ]
  },
  {
   "cell_type": "markdown",
   "id": "28c9e735",
   "metadata": {},
   "source": [
    "## Convert to base64 string"
   ]
  },
  {
   "cell_type": "code",
   "execution_count": null,
   "id": "2055d1a7",
   "metadata": {},
   "outputs": [],
   "source": [
    "import base64\n",
    "\n",
    "\n",
    "def file_to_base64(filepath):\n",
    "    with open(filepath, \"rb\") as f:\n",
    "        encoded = base64.b64encode(f.read()).decode(\"utf-8\")\n",
    "    return encoded\n",
    "\n",
    "\n",
    "file_to_base64(\"token.json\")"
   ]
  }
 ],
 "metadata": {
  "kernelspec": {
   "display_name": "elevenlabs-x-mcp",
   "language": "python",
   "name": "python3"
  },
  "language_info": {
   "codemirror_mode": {
    "name": "ipython",
    "version": 3
   },
   "file_extension": ".py",
   "mimetype": "text/x-python",
   "name": "python",
   "nbconvert_exporter": "python",
   "pygments_lexer": "ipython3",
   "version": "3.13.0"
  }
 },
 "nbformat": 4,
 "nbformat_minor": 5
}
